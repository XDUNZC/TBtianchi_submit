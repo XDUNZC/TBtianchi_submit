{
 "cells": [
  {
   "cell_type": "code",
   "execution_count": 2,
   "metadata": {},
   "outputs": [],
   "source": [
    "import torch\n",
    "import torch.nn as nn\n",
    "import os\n",
    "from mmdet.apis import init_detector, inference_detector, show_result\n",
    "from mmdet.models import build_detector\n",
    "import mmcv\n",
    "from mmcv.runner import load_checkpoint\n",
    "from mmdet.datasets.pipelines import Compose\n",
    "from mmcv.parallel import collate, scatter\n",
    "import numpy as np\n",
    "device='cuda:0'"
   ]
  },
  {
   "cell_type": "code",
   "execution_count": 4,
   "metadata": {},
   "outputs": [],
   "source": [
    "idx = 2 # 0 for faster rcnn, 1 for retinanet \n",
    "config_file = ['configs/tbtc_fater_rcnn_voc.py',\n",
    "               'tbtc_retinanet_voc.py','tbtc_feature_exteactor_faster_rcnn.py',\n",
    "               'tbtc_feature_exteactor_faster_rcnn.py'\n",
    "              ][idx]\n",
    "checkpoint_file = ['checkpoints/faster_rcnn_x101_64x4d_fpn_1x20200324-ba5926a5.pth',\n",
    "                   'retinanet_x101_64x4d_fpn_1x20200322-53c08bb4.pth'][0]\n",
    "# config = mmcv.Config.fromfile(config_file)\n",
    "# model = build_detector(config.model)\n",
    "# model = model.to(device)\n",
    "# model = init_detector(config_file, checkpoint_file,device=device)\n",
    "# build the model from a config file and a checkpoint file"
   ]
  },
  {
   "cell_type": "code",
   "execution_count": 11,
   "metadata": {},
   "outputs": [],
   "source": [
    "class LoadImage(object):\n",
    "\n",
    "    def __call__(self, results):\n",
    "        if isinstance(results['img'], str):\n",
    "            results['filename'] = results['img']\n",
    "        else:\n",
    "            results['filename'] = None\n",
    "        img = mmcv.imread(results['img'])\n",
    "        results['img'] = img\n",
    "        results['img_shape'] = img.shape\n",
    "        results['ori_shape'] = img.shape\n",
    "        return results\n",
    "\n",
    "def get_img(cfg,img):\n",
    "    # build the data pipeline\n",
    "    test_pipeline = [LoadImage()] + cfg.data.test.pipeline[1:]\n",
    "    test_pipeline = Compose(test_pipeline)\n",
    "    # H x W x C -> C x H x W and expand an dim\n",
    "    data = dict(img=img)\n",
    "    data = test_pipeline(data)\n",
    "    return data"
   ]
  },
  {
   "cell_type": "code",
   "execution_count": 39,
   "metadata": {},
   "outputs": [],
   "source": [
    "img = 'demo/tbtc_test.jpg'\n",
    "config = mmcv.Config.fromfile(config_file)\n",
    "data = get_img(config,img)"
   ]
  },
  {
   "cell_type": "code",
   "execution_count": 46,
   "metadata": {},
   "outputs": [
    {
     "data": {
      "text/plain": [
       "{'img_metas': [DataContainer({'filename': 'demo/tbtc_test.jpg', 'ori_shape': (800, 800, 3), 'img_shape': (800, 800, 3), 'pad_shape': (800, 800, 3), 'scale_factor': 1.0, 'flip': False, 'img_norm_cfg': {'mean': array([123.675, 116.28 , 103.53 ], dtype=float32), 'std': array([58.395, 57.12 , 57.375], dtype=float32), 'to_rgb': True}})],\n",
       " 'img': [tensor([[[-0.9534, -0.9877, -0.9534,  ...,  0.3823,  0.3652,  0.3823],\n",
       "           [-0.8335, -0.8164, -0.7822,  ...,  0.3309,  0.3309,  0.3652],\n",
       "           [-0.7137, -0.6452, -0.6281,  ...,  0.2796,  0.2967,  0.3481],\n",
       "           ...,\n",
       "           [-0.1828, -0.0972, -0.1143,  ...,  0.3481,  0.3481,  0.2453],\n",
       "           [-0.1828, -0.1486, -0.0458,  ...,  0.3138,  0.3138,  0.1254],\n",
       "           [ 0.0056,  0.0569,  0.2967,  ...,  0.4851,  0.3652,  0.2453]],\n",
       "  \n",
       "          [[-0.8277, -0.8627, -0.8277,  ...,  0.4853,  0.4853,  0.5028],\n",
       "           [-0.7052, -0.6877, -0.6527,  ...,  0.4328,  0.4503,  0.4853],\n",
       "           [-0.5826, -0.5126, -0.4951,  ...,  0.3803,  0.4153,  0.4678],\n",
       "           ...,\n",
       "           [-0.4776, -0.3901, -0.4076,  ...,  0.2752,  0.2752,  0.1702],\n",
       "           [-0.4076, -0.3725, -0.2675,  ...,  0.2402,  0.2402,  0.0476],\n",
       "           [-0.1975, -0.1450,  0.1001,  ...,  0.4153,  0.2927,  0.1702]],\n",
       "  \n",
       "          [[-0.5670, -0.6018, -0.5670,  ...,  0.7228,  0.6705,  0.6879],\n",
       "           [-0.4450, -0.4275, -0.3927,  ...,  0.6705,  0.6356,  0.6705],\n",
       "           [-0.2881, -0.2184, -0.2358,  ...,  0.6182,  0.6008,  0.6531],\n",
       "           ...,\n",
       "           [-0.4624, -0.3753, -0.3927,  ...,  0.5311,  0.5659,  0.4614],\n",
       "           [-0.3404, -0.3055, -0.1661,  ...,  0.4614,  0.4962,  0.3045],\n",
       "           [-0.0964, -0.0441,  0.2173,  ...,  0.6356,  0.5485,  0.4265]]])]}"
      ]
     },
     "execution_count": 46,
     "metadata": {},
     "output_type": "execute_result"
    }
   ],
   "source": [
    "data"
   ]
  },
  {
   "cell_type": "code",
   "execution_count": 45,
   "metadata": {},
   "outputs": [
    {
     "data": {
      "text/plain": [
       "{'filename': 'demo/tbtc_test.jpg',\n",
       " 'ori_shape': (800, 800, 3),\n",
       " 'img_shape': (800, 800, 3),\n",
       " 'pad_shape': (800, 800, 3),\n",
       " 'scale_factor': 1.0,\n",
       " 'flip': False,\n",
       " 'img_norm_cfg': {'mean': array([123.675, 116.28 , 103.53 ], dtype=float32),\n",
       "  'std': array([58.395, 57.12 , 57.375], dtype=float32),\n",
       "  'to_rgb': True}}"
      ]
     },
     "execution_count": 45,
     "metadata": {},
     "output_type": "execute_result"
    }
   ],
   "source": [
    "data['img_metas'][0].data"
   ]
  },
  {
   "cell_type": "code",
   "execution_count": 14,
   "metadata": {},
   "outputs": [],
   "source": [
    "import os \n",
    "import glob"
   ]
  },
  {
   "cell_type": "code",
   "execution_count": 17,
   "metadata": {},
   "outputs": [],
   "source": [
    "data_path = glob.glob('data/coco/images/*')"
   ]
  },
  {
   "cell_type": "code",
   "execution_count": 18,
   "metadata": {},
   "outputs": [
    {
     "data": {
      "text/plain": [
       "['data/coco/images/train2017',\n",
       " 'data/coco/images/val2017',\n",
       " 'data/coco/images/test2017']"
      ]
     },
     "execution_count": 18,
     "metadata": {},
     "output_type": "execute_result"
    }
   ],
   "source": [
    "data_path"
   ]
  },
  {
   "cell_type": "code",
   "execution_count": 20,
   "metadata": {},
   "outputs": [],
   "source": [
    "img_paths = []\n",
    "for path in data_path:\n",
    "    img_paths.extend(glob.glob(path + '/*'))"
   ]
  },
  {
   "cell_type": "code",
   "execution_count": 22,
   "metadata": {},
   "outputs": [
    {
     "data": {
      "text/plain": [
       "248166"
      ]
     },
     "execution_count": 22,
     "metadata": {},
     "output_type": "execute_result"
    }
   ],
   "source": [
    "len(img_paths)"
   ]
  },
  {
   "cell_type": "code",
   "execution_count": 23,
   "metadata": {},
   "outputs": [],
   "source": [
    "import mmcv"
   ]
  },
  {
   "cell_type": "code",
   "execution_count": 25,
   "metadata": {},
   "outputs": [],
   "source": [
    "img = mmcv.imread(img_paths[0])"
   ]
  },
  {
   "cell_type": "code",
   "execution_count": 27,
   "metadata": {},
   "outputs": [
    {
     "data": {
      "text/plain": [
       "'(800, 800, 3)'"
      ]
     },
     "execution_count": 27,
     "metadata": {},
     "output_type": "execute_result"
    }
   ],
   "source": [
    "str(img.shape)"
   ]
  },
  {
   "cell_type": "code",
   "execution_count": 49,
   "metadata": {},
   "outputs": [],
   "source": [
    "shape_dict = {}"
   ]
  },
  {
   "cell_type": "code",
   "execution_count": 51,
   "metadata": {},
   "outputs": [
    {
     "name": "stdout",
     "output_type": "stream",
     "text": [
      "[>>>>>>>>>>>>>>>>>>>>>>>>>>>] 1000/1000, 80.8 task/s, elapsed: 12s, ETA:     0s\n"
     ]
    }
   ],
   "source": [
    "for task in mmcv.track_iter_progress(img_paths[:1000]):\n",
    "    img = mmcv.imread(task)\n",
    "    shape = str(img.shape)\n",
    "    if shape in shape_dict.keys():\n",
    "        shape_dict[shape]+=1\n",
    "    else:\n",
    "        shape_dict[shape]=1\n",
    "        "
   ]
  },
  {
   "cell_type": "code",
   "execution_count": 52,
   "metadata": {},
   "outputs": [
    {
     "data": {
      "text/plain": [
       "{'(800, 800, 3)': 942,\n",
       " '(750, 750, 3)': 28,\n",
       " '(600, 400, 3)': 1,\n",
       " '(800, 600, 3)': 12,\n",
       " '(800, 750, 3)': 5,\n",
       " '(800, 706, 3)': 1,\n",
       " '(800, 599, 3)': 1,\n",
       " '(800, 553, 3)': 1,\n",
       " '(736, 742, 3)': 1,\n",
       " '(700, 700, 3)': 2,\n",
       " '(800, 742, 3)': 1,\n",
       " '(800, 574, 3)': 1,\n",
       " '(800, 533, 3)': 1,\n",
       " '(500, 750, 3)': 1,\n",
       " '(768, 768, 3)': 1,\n",
       " '(706, 600, 3)': 1}"
      ]
     },
     "execution_count": 52,
     "metadata": {},
     "output_type": "execute_result"
    }
   ],
   "source": [
    "shape_dict"
   ]
  },
  {
   "cell_type": "code",
   "execution_count": null,
   "metadata": {},
   "outputs": [],
   "source": []
  }
 ],
 "metadata": {
  "kernelspec": {
   "display_name": "Python 3",
   "language": "python",
   "name": "python3"
  },
  "language_info": {
   "codemirror_mode": {
    "name": "ipython",
    "version": 3
   },
   "file_extension": ".py",
   "mimetype": "text/x-python",
   "name": "python",
   "nbconvert_exporter": "python",
   "pygments_lexer": "ipython3",
   "version": "3.7.3"
  }
 },
 "nbformat": 4,
 "nbformat_minor": 4
}
