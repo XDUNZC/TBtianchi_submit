{
 "cells": [
  {
   "cell_type": "code",
   "execution_count": 8,
   "metadata": {},
   "outputs": [],
   "source": [
    "import torch\n",
    "import torch.nn as nn\n",
    "import os\n",
    "from mmdet.apis import init_detector, inference_detector, show_result, inference_detector_feats\n",
    "from mmdet.models import build_detector\n",
    "import mmcv\n",
    "from mmcv.runner import load_checkpoint\n",
    "from mmdet.datasets.pipelines import Compose\n",
    "from mmcv.parallel import collate, scatter\n",
    "import numpy as np\n",
    "import glob\n",
    "os.environ[\"CUDA_DEVICE_ORDER\"]=\"PCI_BUS_ID\"\n",
    "os.environ[\"CUDA_VISIBLE_DEVICES\"]=\"1,2,3\"  # specify which GPU(s) to be used\n",
    "device='cuda:0'\n"
   ]
  },
  {
   "cell_type": "code",
   "execution_count": 2,
   "metadata": {},
   "outputs": [],
   "source": [
    "idx = 0 # 0 for faster rcnn, 1 for retinanet \n",
    "config_file = ['configs/tbtc_fater_rcnn_voc.py',\n",
    "               'tbtc_retinanet_voc.py','tbtc_feature_exteactor_faster_rcnn.py',\n",
    "               'tbtc_feature_exteactor_faster_rcnn.py'\n",
    "              ][idx]\n",
    "checkpoint_file = ['checkpoints/faster_rcnn_x101_64x4d_fpn_1x20200324-ba5926a5.pth',\n",
    "                   'retinanet_x101_64x4d_fpn_1x20200322-53c08bb4.pth'][idx]\n",
    "# config = mmcv.Config.fromfile(config_file)\n",
    "# model = build_detector(config.model)\n",
    "# model = model.to(device)\n",
    "# model = init_detector(config_file, checkpoint_file,device=device)\n",
    "# build the model from a config file and a checkpoint file"
   ]
  },
  {
   "cell_type": "code",
   "execution_count": 7,
   "metadata": {},
   "outputs": [],
   "source": [
    "class LoadImage(object):\n",
    "\n",
    "    def __call__(self, results):\n",
    "        if isinstance(results['img'], str):\n",
    "            results['filename'] = results['img']\n",
    "        else:\n",
    "            results['filename'] = None\n",
    "        img = mmcv.imread(results['img'])\n",
    "        results['img'] = img\n",
    "        results['img_shape'] = img.shape\n",
    "        results['ori_shape'] = img.shape\n",
    "        return results\n",
    "\n",
    "def get_img(cfg,img):\n",
    "    # build the data pipeline\n",
    "    test_pipeline = [LoadImage()] + cfg.data.test.pipeline[1:]\n",
    "    test_pipeline = Compose(test_pipeline)\n",
    "    # H x W x C -> C x H x W and expand an dim\n",
    "    data = dict(img=img)\n",
    "    data = test_pipeline(data)\n",
    "    return data\n",
    "def get_model(config_file='configs/my.py',\n",
    "              checkpoint_file='work_dirs/retinanet_x101_64x4d_fpn_1x/latest.pth',\n",
    "              device='cuda:0'):\n",
    "    model = init_detector(config_file, checkpoint_file, device=device)\n",
    "    return model\n"
   ]
  },
  {
   "cell_type": "code",
   "execution_count": 8,
   "metadata": {},
   "outputs": [
    {
     "data": {
      "text/plain": [
       "{'img_metas': [DataContainer({'filename': 'demo/tbtc_test.jpg', 'ori_shape': (800, 800, 3), 'img_shape': (800, 800, 3), 'pad_shape': (800, 800, 3), 'scale_factor': 1.0, 'flip': False, 'img_norm_cfg': {'mean': array([123.675, 116.28 , 103.53 ], dtype=float32), 'std': array([58.395, 57.12 , 57.375], dtype=float32), 'to_rgb': True}})],\n",
       " 'img': [tensor([[[-0.9534, -0.9877, -0.9534,  ...,  0.3823,  0.3652,  0.3823],\n",
       "           [-0.8335, -0.8164, -0.7822,  ...,  0.3309,  0.3309,  0.3652],\n",
       "           [-0.7137, -0.6452, -0.6281,  ...,  0.2796,  0.2967,  0.3481],\n",
       "           ...,\n",
       "           [-0.1828, -0.0972, -0.1143,  ...,  0.3481,  0.3481,  0.2453],\n",
       "           [-0.1828, -0.1486, -0.0458,  ...,  0.3138,  0.3138,  0.1254],\n",
       "           [ 0.0056,  0.0569,  0.2967,  ...,  0.4851,  0.3652,  0.2453]],\n",
       "  \n",
       "          [[-0.8277, -0.8627, -0.8277,  ...,  0.4853,  0.4853,  0.5028],\n",
       "           [-0.7052, -0.6877, -0.6527,  ...,  0.4328,  0.4503,  0.4853],\n",
       "           [-0.5826, -0.5126, -0.4951,  ...,  0.3803,  0.4153,  0.4678],\n",
       "           ...,\n",
       "           [-0.4776, -0.3901, -0.4076,  ...,  0.2752,  0.2752,  0.1702],\n",
       "           [-0.4076, -0.3725, -0.2675,  ...,  0.2402,  0.2402,  0.0476],\n",
       "           [-0.1975, -0.1450,  0.1001,  ...,  0.4153,  0.2927,  0.1702]],\n",
       "  \n",
       "          [[-0.5670, -0.6018, -0.5670,  ...,  0.7228,  0.6705,  0.6879],\n",
       "           [-0.4450, -0.4275, -0.3927,  ...,  0.6705,  0.6356,  0.6705],\n",
       "           [-0.2881, -0.2184, -0.2358,  ...,  0.6182,  0.6008,  0.6531],\n",
       "           ...,\n",
       "           [-0.4624, -0.3753, -0.3927,  ...,  0.5311,  0.5659,  0.4614],\n",
       "           [-0.3404, -0.3055, -0.1661,  ...,  0.4614,  0.4962,  0.3045],\n",
       "           [-0.0964, -0.0441,  0.2173,  ...,  0.6356,  0.5485,  0.4265]]])]}"
      ]
     },
     "execution_count": 8,
     "metadata": {},
     "output_type": "execute_result"
    }
   ],
   "source": [
    "img = 'demo/tbtc_test.jpg'\n",
    "config = mmcv.Config.fromfile(config_file)\n",
    "data = get_img(config,img)\n",
    "data"
   ]
  },
  {
   "cell_type": "code",
   "execution_count": 9,
   "metadata": {},
   "outputs": [
    {
     "name": "stdout",
     "output_type": "stream",
     "text": [
      "[{'filename': 'demo/tbtc_test.jpg', 'ori_shape': (800, 800, 3), 'img_shape': (800, 800, 3), 'pad_shape': (800, 800, 3), 'scale_factor': 1.0, 'flip': False, 'img_norm_cfg': {'mean': array([123.675, 116.28 , 103.53 ], dtype=float32), 'std': array([58.395, 57.12 , 57.375], dtype=float32), 'to_rgb': True}}]\n"
     ]
    }
   ],
   "source": [
    "img_metas = [ i.data for i in data['img_metas'] ]\n",
    "print(img_metas)"
   ]
  },
  {
   "cell_type": "code",
   "execution_count": 3,
   "metadata": {},
   "outputs": [],
   "source": [
    "model = init_detector(config_file, checkpoint_file,device=device)"
   ]
  },
  {
   "cell_type": "code",
   "execution_count": 4,
   "metadata": {},
   "outputs": [],
   "source": [
    "img = 'demo/tbtc_test.jpg'\n",
    "result,roi_feats = inference_detector(model,img)"
   ]
  },
  {
   "cell_type": "code",
   "execution_count": 6,
   "metadata": {},
   "outputs": [
    {
     "data": {
      "text/plain": [
       "torch.Size([1000, 256, 7, 7])"
      ]
     },
     "execution_count": 6,
     "metadata": {},
     "output_type": "execute_result"
    }
   ],
   "source": [
    "roi_feats.shape"
   ]
  },
  {
   "cell_type": "code",
   "execution_count": 20,
   "metadata": {},
   "outputs": [
    {
     "data": {
      "text/plain": [
       "torch.Size([1, 256, 50, 50])"
      ]
     },
     "execution_count": 20,
     "metadata": {},
     "output_type": "execute_result"
    }
   ],
   "source": [
    "x[2].shape"
   ]
  },
  {
   "cell_type": "code",
   "execution_count": 33,
   "metadata": {},
   "outputs": [],
   "source": [
    "img_ = 'demo/tbtv_test_small.jpg'"
   ]
  },
  {
   "cell_type": "code",
   "execution_count": 34,
   "metadata": {},
   "outputs": [],
   "source": [
    "result,roi_feats = inference_detector(model,img_)"
   ]
  },
  {
   "cell_type": "code",
   "execution_count": 35,
   "metadata": {},
   "outputs": [
    {
     "data": {
      "text/plain": [
       "torch.Size([1000, 256, 7, 7])"
      ]
     },
     "execution_count": 35,
     "metadata": {},
     "output_type": "execute_result"
    }
   ],
   "source": [
    "roi_feats.shape"
   ]
  },
  {
   "cell_type": "code",
   "execution_count": 9,
   "metadata": {},
   "outputs": [],
   "source": [
    "data_path = glob.glob('data/coco/images/*')"
   ]
  },
  {
   "cell_type": "code",
   "execution_count": 10,
   "metadata": {},
   "outputs": [
    {
     "data": {
      "text/plain": [
       "['data/coco/images/train2017',\n",
       " 'data/coco/images/val2017',\n",
       " 'data/coco/images/test2017']"
      ]
     },
     "execution_count": 10,
     "metadata": {},
     "output_type": "execute_result"
    }
   ],
   "source": [
    "data_path"
   ]
  },
  {
   "cell_type": "code",
   "execution_count": 11,
   "metadata": {},
   "outputs": [],
   "source": [
    "img_paths = []\n",
    "for path in data_path[:10]:\n",
    "    img_paths.extend(glob.glob(path + '/*'))"
   ]
  },
  {
   "cell_type": "code",
   "execution_count": 12,
   "metadata": {},
   "outputs": [
    {
     "data": {
      "text/plain": [
       "248166"
      ]
     },
     "execution_count": 12,
     "metadata": {},
     "output_type": "execute_result"
    }
   ],
   "source": [
    "len(img_paths)"
   ]
  },
  {
   "cell_type": "code",
   "execution_count": 13,
   "metadata": {},
   "outputs": [],
   "source": [
    "import mmcv"
   ]
  },
  {
   "cell_type": "code",
   "execution_count": 28,
   "metadata": {},
   "outputs": [
    {
     "name": "stdout",
     "output_type": "stream",
     "text": [
      "data/coco/images/train2017/070977_1.jpg\n",
      "(750, 750, 3)\n",
      "data/coco/images/train2017/075926_1.jpg\n",
      "(750, 750, 3)\n",
      "data/coco/images/train2017/119948_4.jpg\n",
      "(600, 400, 3)\n",
      "data/coco/images/train2017/098842_3.jpg\n",
      "(750, 750, 3)\n",
      "data/coco/images/train2017/105110_4.jpg\n",
      "(800, 600, 3)\n",
      "data/coco/images/train2017/073653_4.jpg\n",
      "(750, 750, 3)\n",
      "data/coco/images/train2017/084132_1.jpg\n",
      "(750, 750, 3)\n",
      "data/coco/images/train2017/084368_0.jpg\n",
      "(800, 750, 3)\n",
      "data/coco/images/train2017/100606_2.jpg\n",
      "(800, 600, 3)\n",
      "data/coco/images/train2017/082845_0.jpg\n",
      "(750, 750, 3)\n",
      "data/coco/images/train2017/035619_4.jpg\n",
      "(800, 750, 3)\n",
      "data/coco/images/train2017/097999_4.jpg\n",
      "(800, 600, 3)\n",
      "data/coco/images/train2017/010483_1.jpg\n",
      "(800, 750, 3)\n",
      "data/coco/images/train2017/117068_1.jpg\n",
      "(750, 750, 3)\n",
      "data/coco/images/train2017/113431_1.jpg\n",
      "(750, 750, 3)\n",
      "data/coco/images/train2017/047968_0.jpg\n",
      "(750, 750, 3)\n",
      "data/coco/images/train2017/118188_0.jpg\n",
      "(800, 600, 3)\n",
      "data/coco/images/train2017/117206_0.jpg\n",
      "(800, 706, 3)\n",
      "data/coco/images/train2017/002336_4.jpg\n",
      "(750, 750, 3)\n",
      "data/coco/images/train2017/053497_1.jpg\n",
      "(750, 750, 3)\n",
      "data/coco/images/train2017/096191_0.jpg\n",
      "(750, 750, 3)\n",
      "data/coco/images/train2017/119289_0.jpg\n",
      "(800, 750, 3)\n",
      "data/coco/images/train2017/006082_1.jpg\n",
      "(750, 750, 3)\n",
      "data/coco/images/train2017/003917_3.jpg\n",
      "(750, 750, 3)\n",
      "data/coco/images/train2017/097044_2.jpg\n",
      "(750, 750, 3)\n",
      "data/coco/images/train2017/018528_4.jpg\n",
      "(750, 750, 3)\n",
      "data/coco/images/train2017/017776_1.jpg\n",
      "(800, 600, 3)\n",
      "data/coco/images/train2017/109442_4.jpg\n",
      "(800, 599, 3)\n",
      "data/coco/images/train2017/092865_3.jpg\n",
      "(750, 750, 3)\n",
      "data/coco/images/train2017/112236_4.jpg\n",
      "(800, 553, 3)\n",
      "data/coco/images/train2017/093859_3.jpg\n",
      "(750, 750, 3)\n",
      "data/coco/images/train2017/086374_4.jpg\n",
      "(736, 742, 3)\n",
      "data/coco/images/train2017/103040_4.jpg\n",
      "(700, 700, 3)\n",
      "data/coco/images/train2017/016414_4.jpg\n",
      "(750, 750, 3)\n",
      "data/coco/images/train2017/060862_1.jpg\n",
      "(800, 600, 3)\n",
      "data/coco/images/train2017/029928_1.jpg\n",
      "(800, 750, 3)\n",
      "data/coco/images/train2017/099869_3.jpg\n",
      "(750, 750, 3)\n",
      "data/coco/images/train2017/087773_2.jpg\n",
      "(800, 742, 3)\n",
      "data/coco/images/train2017/033574_5.jpg\n",
      "(700, 700, 3)\n",
      "data/coco/images/train2017/002442_2.jpg\n",
      "(800, 600, 3)\n",
      "data/coco/images/train2017/089325_1.jpg\n",
      "(800, 600, 3)\n",
      "data/coco/images/train2017/070289_2.jpg\n",
      "(750, 750, 3)\n",
      "data/coco/images/train2017/091926_4.jpg\n",
      "(750, 750, 3)\n",
      "data/coco/images/train2017/001957_0.jpg\n",
      "(800, 600, 3)\n",
      "data/coco/images/train2017/098087_2.jpg\n",
      "(800, 600, 3)\n",
      "data/coco/images/train2017/099880_1.jpg\n",
      "(750, 750, 3)\n",
      "data/coco/images/train2017/115002_4.jpg\n",
      "(800, 574, 3)\n",
      "data/coco/images/train2017/117948_0.jpg\n",
      "(750, 750, 3)\n",
      "data/coco/images/train2017/117098_0.jpg\n",
      "(800, 600, 3)\n",
      "data/coco/images/train2017/069952_1.jpg\n",
      "(800, 533, 3)\n",
      "data/coco/images/train2017/023719_5.jpg\n",
      "(500, 750, 3)\n",
      "data/coco/images/train2017/045546_3.jpg\n",
      "(768, 768, 3)\n",
      "data/coco/images/train2017/102960_3.jpg\n",
      "(706, 600, 3)\n",
      "data/coco/images/train2017/077381_4.jpg\n",
      "(750, 750, 3)\n",
      "data/coco/images/train2017/073653_0.jpg\n",
      "(750, 750, 3)\n",
      "data/coco/images/train2017/091405_1.jpg\n",
      "(800, 600, 3)\n",
      "data/coco/images/train2017/039161_0.jpg\n",
      "(750, 750, 3)\n",
      "data/coco/images/train2017/026923_1.jpg\n",
      "(750, 750, 3)\n",
      "data/coco/images/train2017/025556_4.jpg\n",
      "(749, 750, 3)\n",
      "data/coco/images/train2017/075118_1.jpg\n",
      "(532, 800, 3)\n",
      "data/coco/images/train2017/017002_1.jpg\n",
      "(700, 700, 3)\n",
      "data/coco/images/train2017/053353_0.jpg\n",
      "(753, 753, 3)\n",
      "data/coco/images/train2017/105510_1.jpg\n",
      "(662, 662, 3)\n",
      "data/coco/images/train2017/090205_4.jpg\n",
      "(800, 533, 3)\n",
      "data/coco/images/train2017/102931_4.jpg\n",
      "(799, 524, 3)\n",
      "data/coco/images/train2017/115041_0.jpg\n",
      "(700, 700, 3)\n",
      "data/coco/images/train2017/021872_2.jpg\n",
      "(800, 750, 3)\n",
      "data/coco/images/train2017/119948_2.jpg\n",
      "(267, 400, 3)\n",
      "data/coco/images/train2017/099764_4.jpg\n",
      "(749, 750, 3)\n",
      "data/coco/images/train2017/097339_3.jpg\n",
      "(600, 799, 3)\n",
      "data/coco/images/train2017/031017_5.jpg\n",
      "(800, 533, 3)\n",
      "data/coco/images/train2017/077920_4.jpg\n",
      "(800, 750, 3)\n",
      "data/coco/images/train2017/084256_4.jpg\n",
      "(750, 750, 3)\n",
      "data/coco/images/train2017/116536_1.jpg\n",
      "(799, 800, 3)\n",
      "data/coco/images/train2017/106575_3.jpg\n",
      "(756, 756, 3)\n",
      "data/coco/images/train2017/039428_5.jpg\n",
      "(800, 600, 3)\n",
      "data/coco/images/train2017/106674_4.jpg\n",
      "(750, 750, 3)\n",
      "data/coco/images/train2017/113440_0.jpg\n",
      "(750, 750, 3)\n",
      "data/coco/images/train2017/079750_4.jpg\n",
      "(750, 750, 3)\n",
      "data/coco/images/train2017/002314_2.jpg\n",
      "(750, 750, 3)\n",
      "data/coco/images/train2017/086132_4.jpg\n",
      "(750, 750, 3)\n",
      "data/coco/images/train2017/100293_2.jpg\n",
      "(800, 600, 3)\n",
      "data/coco/images/train2017/115920_0.jpg\n",
      "(800, 666, 3)\n",
      "data/coco/images/train2017/089525_4.jpg\n",
      "(800, 600, 3)\n",
      "data/coco/images/train2017/035732_5.jpg\n",
      "(800, 750, 3)\n",
      "data/coco/images/train2017/026921_3.jpg\n",
      "(750, 750, 3)\n",
      "data/coco/images/train2017/113603_2.jpg\n",
      "(800, 600, 3)\n",
      "data/coco/images/train2017/029928_5.jpg\n",
      "(800, 750, 3)\n",
      "data/coco/images/train2017/116203_3.jpg\n",
      "(800, 729, 3)\n",
      "data/coco/images/train2017/002676_4.jpg\n",
      "(800, 533, 3)\n",
      "data/coco/images/train2017/097666_2.jpg\n",
      "(750, 750, 3)\n",
      "data/coco/images/train2017/039013_1.jpg\n",
      "(800, 750, 3)\n",
      "data/coco/images/train2017/117324_0.jpg\n",
      "(750, 750, 3)\n",
      "data/coco/images/train2017/093747_4.jpg\n",
      "(750, 750, 3)\n",
      "data/coco/images/train2017/071280_2.jpg\n",
      "(800, 750, 3)\n",
      "data/coco/images/train2017/086472_4.jpg\n",
      "(750, 750, 3)\n",
      "data/coco/images/train2017/039663_5.jpg\n",
      "(799, 799, 3)\n",
      "data/coco/images/train2017/000080_1.jpg\n",
      "(768, 750, 3)\n",
      "data/coco/images/train2017/089954_2.jpg\n",
      "(616, 616, 3)\n",
      "data/coco/images/train2017/093747_2.jpg\n",
      "(750, 750, 3)\n",
      "data/coco/images/train2017/044525_4.jpg\n",
      "(800, 750, 3)\n",
      "data/coco/images/train2017/093217_1.jpg\n",
      "(800, 600, 3)\n",
      "data/coco/images/train2017/023095_0.jpg\n",
      "(640, 640, 3)\n",
      "data/coco/images/train2017/079118_3.jpg\n",
      "(800, 622, 3)\n",
      "data/coco/images/train2017/088197_2.jpg\n",
      "(750, 750, 3)\n",
      "data/coco/images/train2017/024385_1.jpg\n",
      "(750, 750, 3)\n",
      "data/coco/images/train2017/115922_3.jpg\n",
      "(750, 750, 3)\n"
     ]
    },
    {
     "ename": "KeyboardInterrupt",
     "evalue": "",
     "output_type": "error",
     "traceback": [
      "\u001b[0;31m---------------------------------------------------------------------------\u001b[0m",
      "\u001b[0;31mKeyboardInterrupt\u001b[0m                         Traceback (most recent call last)",
      "\u001b[0;32m<ipython-input-28-240fdcc2a601>\u001b[0m in \u001b[0;36m<module>\u001b[0;34m\u001b[0m\n\u001b[1;32m      1\u001b[0m \u001b[0;32mfor\u001b[0m \u001b[0mi\u001b[0m \u001b[0;32min\u001b[0m \u001b[0mimg_paths\u001b[0m\u001b[0;34m[\u001b[0m\u001b[0;34m:\u001b[0m\u001b[0;36m10000\u001b[0m\u001b[0;34m]\u001b[0m\u001b[0;34m:\u001b[0m\u001b[0;34m\u001b[0m\u001b[0;34m\u001b[0m\u001b[0m\n\u001b[0;32m----> 2\u001b[0;31m     \u001b[0mimg\u001b[0m \u001b[0;34m=\u001b[0m \u001b[0mmmcv\u001b[0m\u001b[0;34m.\u001b[0m\u001b[0mimread\u001b[0m\u001b[0;34m(\u001b[0m\u001b[0mi\u001b[0m\u001b[0;34m)\u001b[0m\u001b[0;34m\u001b[0m\u001b[0;34m\u001b[0m\u001b[0m\n\u001b[0m\u001b[1;32m      3\u001b[0m     \u001b[0;32mif\u001b[0m \u001b[0mimg\u001b[0m\u001b[0;34m.\u001b[0m\u001b[0mshape\u001b[0m \u001b[0;34m!=\u001b[0m \u001b[0;34m(\u001b[0m\u001b[0;36m800\u001b[0m\u001b[0;34m,\u001b[0m \u001b[0;36m800\u001b[0m\u001b[0;34m,\u001b[0m \u001b[0;36m3\u001b[0m\u001b[0;34m)\u001b[0m\u001b[0;34m:\u001b[0m\u001b[0;34m\u001b[0m\u001b[0;34m\u001b[0m\u001b[0m\n\u001b[1;32m      4\u001b[0m         \u001b[0mprint\u001b[0m\u001b[0;34m(\u001b[0m\u001b[0mi\u001b[0m\u001b[0;34m)\u001b[0m\u001b[0;34m\u001b[0m\u001b[0;34m\u001b[0m\u001b[0m\n\u001b[1;32m      5\u001b[0m         \u001b[0mprint\u001b[0m\u001b[0;34m(\u001b[0m\u001b[0mimg\u001b[0m\u001b[0;34m.\u001b[0m\u001b[0mshape\u001b[0m\u001b[0;34m)\u001b[0m\u001b[0;34m\u001b[0m\u001b[0;34m\u001b[0m\u001b[0m\n",
      "\u001b[0;32m~/miniconda3/envs/pytorch/lib/python3.7/site-packages/mmcv-0.3.2-py3.7-linux-x86_64.egg/mmcv/image/io.py\u001b[0m in \u001b[0;36mimread\u001b[0;34m(img_or_path, flag, channel_order)\u001b[0m\n\u001b[1;32m     93\u001b[0m         \u001b[0;32melse\u001b[0m\u001b[0;34m:\u001b[0m\u001b[0;34m\u001b[0m\u001b[0;34m\u001b[0m\u001b[0m\n\u001b[1;32m     94\u001b[0m             \u001b[0mflag\u001b[0m \u001b[0;34m=\u001b[0m \u001b[0mimread_flags\u001b[0m\u001b[0;34m[\u001b[0m\u001b[0mflag\u001b[0m\u001b[0;34m]\u001b[0m \u001b[0;32mif\u001b[0m \u001b[0mis_str\u001b[0m\u001b[0;34m(\u001b[0m\u001b[0mflag\u001b[0m\u001b[0;34m)\u001b[0m \u001b[0;32melse\u001b[0m \u001b[0mflag\u001b[0m\u001b[0;34m\u001b[0m\u001b[0;34m\u001b[0m\u001b[0m\n\u001b[0;32m---> 95\u001b[0;31m             \u001b[0mimg\u001b[0m \u001b[0;34m=\u001b[0m \u001b[0mcv2\u001b[0m\u001b[0;34m.\u001b[0m\u001b[0mimread\u001b[0m\u001b[0;34m(\u001b[0m\u001b[0mimg_or_path\u001b[0m\u001b[0;34m,\u001b[0m \u001b[0mflag\u001b[0m\u001b[0;34m)\u001b[0m\u001b[0;34m\u001b[0m\u001b[0;34m\u001b[0m\u001b[0m\n\u001b[0m\u001b[1;32m     96\u001b[0m             \u001b[0;32mif\u001b[0m \u001b[0mflag\u001b[0m \u001b[0;34m==\u001b[0m \u001b[0mIMREAD_COLOR\u001b[0m \u001b[0;32mand\u001b[0m \u001b[0mchannel_order\u001b[0m \u001b[0;34m==\u001b[0m \u001b[0;34m'rgb'\u001b[0m\u001b[0;34m:\u001b[0m\u001b[0;34m\u001b[0m\u001b[0;34m\u001b[0m\u001b[0m\n\u001b[1;32m     97\u001b[0m                 \u001b[0mcv2\u001b[0m\u001b[0;34m.\u001b[0m\u001b[0mcvtColor\u001b[0m\u001b[0;34m(\u001b[0m\u001b[0mimg\u001b[0m\u001b[0;34m,\u001b[0m \u001b[0mcv2\u001b[0m\u001b[0;34m.\u001b[0m\u001b[0mCOLOR_BGR2RGB\u001b[0m\u001b[0;34m,\u001b[0m \u001b[0mimg\u001b[0m\u001b[0;34m)\u001b[0m\u001b[0;34m\u001b[0m\u001b[0;34m\u001b[0m\u001b[0m\n",
      "\u001b[0;31mKeyboardInterrupt\u001b[0m: "
     ]
    }
   ],
   "source": [
    "for i in img_paths[:10000]:\n",
    "    img = mmcv.imread(i)\n",
    "    if img.shape != (800, 800, 3):\n",
    "        print(i)\n",
    "        print(img.shape)"
   ]
  },
  {
   "cell_type": "code",
   "execution_count": 23,
   "metadata": {},
   "outputs": [
    {
     "data": {
      "text/plain": [
       "True"
      ]
     },
     "execution_count": 23,
     "metadata": {},
     "output_type": "execute_result"
    }
   ],
   "source": [
    "img.shape == (800, 800, 3)"
   ]
  },
  {
   "cell_type": "code",
   "execution_count": 49,
   "metadata": {},
   "outputs": [],
   "source": [
    "shape_dict = {}"
   ]
  },
  {
   "cell_type": "code",
   "execution_count": 51,
   "metadata": {},
   "outputs": [
    {
     "name": "stdout",
     "output_type": "stream",
     "text": [
      "[>>>>>>>>>>>>>>>>>>>>>>>>>>>] 1000/1000, 80.8 task/s, elapsed: 12s, ETA:     0s\n"
     ]
    }
   ],
   "source": [
    "for task in mmcv.track_iter_progress(img_paths[:1000]):\n",
    "    img = mmcv.imread(task)\n",
    "    shape = str(img.shape)\n",
    "    if shape in shape_dict.keys():\n",
    "        shape_dict[shape]+=1\n",
    "    else:\n",
    "        shape_dict[shape]=1\n",
    "        "
   ]
  },
  {
   "cell_type": "code",
   "execution_count": 52,
   "metadata": {},
   "outputs": [
    {
     "data": {
      "text/plain": [
       "{'(800, 800, 3)': 942,\n",
       " '(750, 750, 3)': 28,\n",
       " '(600, 400, 3)': 1,\n",
       " '(800, 600, 3)': 12,\n",
       " '(800, 750, 3)': 5,\n",
       " '(800, 706, 3)': 1,\n",
       " '(800, 599, 3)': 1,\n",
       " '(800, 553, 3)': 1,\n",
       " '(736, 742, 3)': 1,\n",
       " '(700, 700, 3)': 2,\n",
       " '(800, 742, 3)': 1,\n",
       " '(800, 574, 3)': 1,\n",
       " '(800, 533, 3)': 1,\n",
       " '(500, 750, 3)': 1,\n",
       " '(768, 768, 3)': 1,\n",
       " '(706, 600, 3)': 1}"
      ]
     },
     "execution_count": 52,
     "metadata": {},
     "output_type": "execute_result"
    }
   ],
   "source": [
    "shape_dict"
   ]
  },
  {
   "cell_type": "code",
   "execution_count": 9,
   "metadata": {},
   "outputs": [],
   "source": [
    "def fun(*args, **kwargs):\n",
    "#     print('args=', args)\n",
    "    print('kwargs=', kwargs)"
   ]
  },
  {
   "cell_type": "code",
   "execution_count": 10,
   "metadata": {},
   "outputs": [
    {
     "name": "stdout",
     "output_type": "stream",
     "text": [
      "kwargs= {'img_metas': [DataContainer({'filename': 'demo/tbtc_test.jpg', 'ori_shape': (800, 800, 3), 'img_shape': (800, 800, 3), 'pad_shape': (800, 800, 3), 'scale_factor': 1.0, 'flip': False, 'img_norm_cfg': {'mean': array([123.675, 116.28 , 103.53 ], dtype=float32), 'std': array([58.395, 57.12 , 57.375], dtype=float32), 'to_rgb': True}})], 'img': [tensor([[[-0.9534, -0.9877, -0.9534,  ...,  0.3823,  0.3652,  0.3823],\n",
      "         [-0.8335, -0.8164, -0.7822,  ...,  0.3309,  0.3309,  0.3652],\n",
      "         [-0.7137, -0.6452, -0.6281,  ...,  0.2796,  0.2967,  0.3481],\n",
      "         ...,\n",
      "         [-0.1828, -0.0972, -0.1143,  ...,  0.3481,  0.3481,  0.2453],\n",
      "         [-0.1828, -0.1486, -0.0458,  ...,  0.3138,  0.3138,  0.1254],\n",
      "         [ 0.0056,  0.0569,  0.2967,  ...,  0.4851,  0.3652,  0.2453]],\n",
      "\n",
      "        [[-0.8277, -0.8627, -0.8277,  ...,  0.4853,  0.4853,  0.5028],\n",
      "         [-0.7052, -0.6877, -0.6527,  ...,  0.4328,  0.4503,  0.4853],\n",
      "         [-0.5826, -0.5126, -0.4951,  ...,  0.3803,  0.4153,  0.4678],\n",
      "         ...,\n",
      "         [-0.4776, -0.3901, -0.4076,  ...,  0.2752,  0.2752,  0.1702],\n",
      "         [-0.4076, -0.3725, -0.2675,  ...,  0.2402,  0.2402,  0.0476],\n",
      "         [-0.1975, -0.1450,  0.1001,  ...,  0.4153,  0.2927,  0.1702]],\n",
      "\n",
      "        [[-0.5670, -0.6018, -0.5670,  ...,  0.7228,  0.6705,  0.6879],\n",
      "         [-0.4450, -0.4275, -0.3927,  ...,  0.6705,  0.6356,  0.6705],\n",
      "         [-0.2881, -0.2184, -0.2358,  ...,  0.6182,  0.6008,  0.6531],\n",
      "         ...,\n",
      "         [-0.4624, -0.3753, -0.3927,  ...,  0.5311,  0.5659,  0.4614],\n",
      "         [-0.3404, -0.3055, -0.1661,  ...,  0.4614,  0.4962,  0.3045],\n",
      "         [-0.0964, -0.0441,  0.2173,  ...,  0.6356,  0.5485,  0.4265]]])]}\n"
     ]
    }
   ],
   "source": [
    "fun(**data)"
   ]
  },
  {
   "cell_type": "code",
   "execution_count": null,
   "metadata": {},
   "outputs": [],
   "source": []
  }
 ],
 "metadata": {
  "kernelspec": {
   "display_name": "Python 3",
   "language": "python",
   "name": "python3"
  },
  "language_info": {
   "codemirror_mode": {
    "name": "ipython",
    "version": 3
   },
   "file_extension": ".py",
   "mimetype": "text/x-python",
   "name": "python",
   "nbconvert_exporter": "python",
   "pygments_lexer": "ipython3",
   "version": "3.7.3"
  }
 },
 "nbformat": 4,
 "nbformat_minor": 4
}
